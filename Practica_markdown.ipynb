{
 "cells": [
  {
   "cell_type": "markdown",
   "metadata": {},
   "source": [
    "Creación de documentos desde Rstudio\n",
    "==\n",
    "\n",
    "### Titulo del documento\n",
    "\n",
    "Se debe indicar tanto el título para la propiedad **title** como el tipo de documento para la propiedad **output**. La sección debe encerrada con tres guiones al inicio y tres guinoes a final. Por ejemplo:\n",
    "\n",
    "    ---\n",
    "    title: \"My Document\"\n",
    "    output: pdf_document\n",
    "    ---\n",
    "    \n",
    "### Texto\n",
    "\n",
    "El texto se puede escribir de forma natural sin ningun tipo de marcación\n",
    "\n",
    "### Enlaces\n",
    "\n",
    "Para agregar enlaces, se debe poner el enlace dentro de los caracteres **\"<\"** y **\">\"**:\n",
    "\n",
    "    <http://rmarkdown.rstudio.com>\n",
    "    \n",
    "De forma alternativa se pueden usar corchetes y parentesis:\n",
    "\n",
    "    [R Markdown tutorial](http://example.com)\n",
    "    \n",
    "### Ejecución de funciones e impresión de datos\n",
    "\n",
    "Para ejecutar funciones, de sebe encerarr el bloque de código dentro de tres comillas al inicio y tres comillas al final. Se debe poner dentro de llaves la letra reservada **r** seguido de la instrucción a ejecutar. Como resultado se imprime la instrucción y el resultado de la ejecución:\n",
    "\n",
    "    ```{r}\n",
    "    summary(cars)\n",
    "    ```\n",
    "\n",
    "El resultado anterior imprime tanto la instrucción en r como el resultado. Si no se quiere imprimir la instrucción en r, se debe agregar la propiedad <code>echo=FALSE</code>: \n",
    "\n",
    "    ```{r, echo=FALSE}\n",
    "    summary(cars)\n",
    "    ```\n",
    "    \n",
    "### Graficación\n",
    "\n",
    "Para graficar, se pone la instrucción plot dentro del codigo a ejecutar:\n",
    "\n",
    "    ```{r, echo=FALSE}\n",
    "    plot(cars)\n",
    "    ```\n",
    "    \n",
    "### Listas\n",
    "\n",
    "Se pueden poner los caracteres __*__ o __+__. Ejemplo:\n",
    "    * Item 1\n",
    "    * Item 2\n",
    "        + Item 2a\n",
    "        + Item 2b\n",
    "\n",
    "   "
   ]
  },
  {
   "cell_type": "code",
   "execution_count": null,
   "metadata": {
    "collapsed": true
   },
   "outputs": [],
   "source": []
  }
 ],
 "metadata": {
  "kernelspec": {
   "display_name": "Python 3",
   "language": "python",
   "name": "python3"
  },
  "language_info": {
   "codemirror_mode": {
    "name": "ipython",
    "version": 3
   },
   "file_extension": ".py",
   "mimetype": "text/x-python",
   "name": "python",
   "nbconvert_exporter": "python",
   "pygments_lexer": "ipython3",
   "version": "3.5.1"
  }
 },
 "nbformat": 4,
 "nbformat_minor": 0
}
